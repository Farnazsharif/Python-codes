{
 "cells": [
  {
   "cell_type": "code",
   "execution_count": null,
   "metadata": {},
   "outputs": [],
   "source": [
    "#Tensorflow__ImageGenerator_DNN_Prf"
   ]
  },
  {
   "cell_type": "code",
   "execution_count": null,
   "metadata": {},
   "outputs": [],
   "source": [
    "# Download data\n",
    "!wget --no-check-certificate \\\n",
    "    \"https://storage.googleapis.com/laurencemoroney-blog.appspot.com/happy-or-sad.zip\" \\\n",
    "    -O \"/tmp/happy-or-sad.zip\""
   ]
  },
  {
   "cell_type": "code",
   "execution_count": null,
   "metadata": {},
   "outputs": [],
   "source": [
    "# Unzip data\n",
    "import tensorflow as tf\n",
    "import os\n",
    "import zipfile\n",
    "from os import path, getcwd, chdir\n",
    "path = '/Users/farnaz/Documents/TF/happy-or-sad.zip'\n",
    "zip_ref = zipfile.ZipFile(path, 'r')\n",
    "zip_ref.extractall('/Users/farnaz/Documents/TF/happy-or-sad')\n",
    "zip_ref.close()"
   ]
  },
  {
   "cell_type": "code",
   "execution_count": null,
   "metadata": {},
   "outputs": [],
   "source": [
    "#plot data\n",
    "\n",
    "train_happy_dir = os.path.join('/Users/farnaz/Documents/TF/happy-or-sad/happy')\n",
    "train_sad_dir = os.path.join('/Users/farnaz/Documents/TF/happy-or-sad/sad')\n",
    "train_happy_names = os.listdir(train_happy_dir)\n",
    "train_sad_names = os.listdir(train_sad_dir)\n",
    "\n",
    "print('total training horse images:', len(os.listdir(train_happy_dir)))\n",
    "print('total training human images:', len(os.listdir(train_sad_dir)))\n",
    "\n",
    "%matplotlib inline\n",
    "import matplotlib.pyplot as plt\n",
    "import matplotlib.image as mpimg\n",
    "\n",
    "nrows = 4\n",
    "ncols = 4\n",
    "pic_index = 0\n",
    "\n",
    "fig = plt.gcf()\n",
    "fig.set_size_inches(ncols * 4, nrows * 4)\n",
    "\n",
    "pic_index += 8\n",
    "next_happy_pix = [os.path.join(train_happy_dir, fname) \n",
    "                for fname in train_happy_names[pic_index-8:pic_index]]\n",
    "next_sad_pix = [os.path.join(train_sad_dir, fname) \n",
    "                for fname in train_sad_names[pic_index-8:pic_index]]\n",
    "\n",
    "for i, img_path in enumerate(next_happy_pix+next_sad_pix):\n",
    "  sp = plt.subplot(nrows, ncols, i + 1)\n",
    "  sp.axis('Off')\n",
    "\n",
    "  img = mpimg.imread(img_path)\n",
    "  plt.imshow(img)\n",
    "\n",
    "plt.show()"
   ]
  },
  {
   "cell_type": "code",
   "execution_count": 2,
   "metadata": {},
   "outputs": [
    {
     "name": "stdout",
     "output_type": "stream",
     "text": [
      "2.0.0-alpha0\n",
      "Model: \"sequential\"\n",
      "_________________________________________________________________\n",
      "Layer (type)                 Output Shape              Param #   \n",
      "=================================================================\n",
      "conv2d (Conv2D)              (None, 148, 148, 16)      448       \n",
      "_________________________________________________________________\n",
      "max_pooling2d (MaxPooling2D) (None, 74, 74, 16)        0         \n",
      "_________________________________________________________________\n",
      "conv2d_1 (Conv2D)            (None, 72, 72, 32)        4640      \n",
      "_________________________________________________________________\n",
      "max_pooling2d_1 (MaxPooling2 (None, 36, 36, 32)        0         \n",
      "_________________________________________________________________\n",
      "conv2d_2 (Conv2D)            (None, 34, 34, 64)        18496     \n",
      "_________________________________________________________________\n",
      "max_pooling2d_2 (MaxPooling2 (None, 17, 17, 64)        0         \n",
      "_________________________________________________________________\n",
      "flatten (Flatten)            (None, 18496)             0         \n",
      "_________________________________________________________________\n",
      "dense (Dense)                (None, 512)               9470464   \n",
      "_________________________________________________________________\n",
      "dense_1 (Dense)              (None, 1)                 513       \n",
      "=================================================================\n",
      "Total params: 9,494,561\n",
      "Trainable params: 9,494,561\n",
      "Non-trainable params: 0\n",
      "_________________________________________________________________\n",
      "Found 80 images belonging to 2 classes.\n",
      "Epoch 1/15\n",
      "8/8 [==============================] - 2s 231ms/step - loss: 463.2162 - accuracy: 0.5250\n",
      "Epoch 2/15\n",
      "8/8 [==============================] - 1s 123ms/step - loss: 23.8809 - accuracy: 0.5500\n",
      "Epoch 3/15\n",
      "8/8 [==============================] - 1s 123ms/step - loss: 3.1389 - accuracy: 0.9125\n",
      "Epoch 4/15\n",
      "8/8 [==============================] - 1s 129ms/step - loss: 2.0731e-04 - accuracy: 1.0000\n"
     ]
    },
    {
     "data": {
      "text/plain": [
       "1.0"
      ]
     },
     "execution_count": 2,
     "metadata": {},
     "output_type": "execute_result"
    }
   ],
   "source": [
    "# Building the Model \n",
    "import tensorflow as tf\n",
    "print(tf.__version__)\n",
    "\n",
    "def train_happy_sad_model():\n",
    "    \n",
    "    # Step 5 define class \n",
    "    class myCallback(tf.keras.callbacks.Callback):\n",
    "      def on_epoch_end(self, epoch, logs={}):\n",
    "        if(logs.get('accuracy')> 0.999):\n",
    "            self.model.stop_training = True \n",
    "        \n",
    "    # Step 4 define callbacks    \n",
    "    callbacks = myCallback()\n",
    "    # Step 2 define the model\n",
    "    model = tf.keras.models.Sequential([\n",
    "    \n",
    "    tf.keras.layers.Conv2D(16, (3,3), activation='relu', input_shape=(150, 150, 3)),\n",
    "    tf.keras.layers.MaxPooling2D(2, 2),\n",
    "    tf.keras.layers.Conv2D(32, (3,3), activation='relu'),\n",
    "    tf.keras.layers.MaxPooling2D(2,2),\n",
    "    tf.keras.layers.Conv2D(64, (3,3), activation='relu'),\n",
    "    tf.keras.layers.MaxPooling2D(2,2),\n",
    "    \n",
    "    tf.keras.layers.Flatten(),\n",
    "    tf.keras.layers.Dense(512, activation='relu'),\n",
    "    tf.keras.layers.Dense(1, activation='sigmoid')\n",
    "    ])\n",
    "    model.summary()\n",
    "\n",
    "    from tensorflow.keras.optimizers import RMSprop\n",
    "    model.compile(loss='binary_crossentropy',optimizer=RMSprop(lr=0.001),metrics=['accuracy'])\n",
    "    \n",
    "    # Step 1 load and normalize data \n",
    "    from tensorflow.keras.preprocessing.image import ImageDataGenerator\n",
    "    train_datagen = ImageDataGenerator(rescale=1/255)\n",
    "    train_generator = train_datagen.flow_from_directory('/Users/farnaz/Documents/TF/happy-or-sad/', \n",
    "                                                    target_size=(150, 150),batch_size=10,class_mode='binary')\n",
    "    # Step 3 feed data to the model; training\n",
    "    history = model.fit(train_generator,steps_per_epoch=8,epochs=15,verbose=1,callbacks=[callbacks])\n",
    "\n",
    "    return history.history['accuracy'][-1]\n",
    "\n",
    "train_happy_sad_model()"
   ]
  }
 ],
 "metadata": {
  "kernelspec": {
   "display_name": "Python 2",
   "language": "python",
   "name": "python2"
  },
  "language_info": {
   "codemirror_mode": {
    "name": "ipython",
    "version": 2
   },
   "file_extension": ".py",
   "mimetype": "text/x-python",
   "name": "python",
   "nbconvert_exporter": "python",
   "pygments_lexer": "ipython2",
   "version": "2.7.15"
  }
 },
 "nbformat": 4,
 "nbformat_minor": 2
}
