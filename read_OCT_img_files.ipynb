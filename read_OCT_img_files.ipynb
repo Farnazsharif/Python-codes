{
 "cells": [
  {
   "cell_type": "code",
   "execution_count": 4,
   "metadata": {},
   "outputs": [
    {
     "name": "stdout",
     "output_type": "stream",
     "text": [
      "<open file '/Users/farnaz/Dropbox/P000003142_Macular Cube 200x200_2-14-2011_8-34-37_OD_sn22575_cube_z.img', mode 'r' at 0x10f34edb0>\n",
      "[ 1  1  1 ... 85 76 67]\n",
      "(40960000,)\n",
      "(2, 200, 1024)\n"
     ]
    }
   ],
   "source": [
    "# read OCT img files\n",
    "import numpy as np\n",
    "# For loading images: insert your path to the following XXX \n",
    "filepath = 'XXX/P000003142_Macular Cube 200x200_2-14-2011_8-34-37_OD_sn22575_cube_z.img'\n",
    "file = open(filepath, 'r')\n",
    "\n",
    "\n",
    "print(file)\n",
    "dtype = np.dtype('uint8')\n",
    "data = np.fromfile(file, dtype)\n",
    "print(data)\n",
    "print(data.shape)\n",
    "\n",
    "pixelsX = 200\n",
    "pixelsZ = 1024\n",
    "numFrames = 200\n",
    "\n",
    "\n",
    "result_array = np.array([])\n",
    "result_array = np.empty((0, pixelsX,pixelsZ))\n",
    "\n",
    "for numFrame in range(numFrames):\n",
    "    frameBuffer = data[numFrame*pixelsX*pixelsZ:(numFrame+1)*pixelsX*pixelsZ]\n",
    "    index = 0\n",
    "    array = np.zeros([pixelsX*pixelsZ,])\n",
    "    for x in range(pixelsX):\n",
    "        for z in range(pixelsZ):\n",
    "            array[index] = frameBuffer[(pixelsZ-1-z)*pixelsX + (pixelsX-1) - x]\n",
    "            index = index + 1\n",
    "    array = array.reshape((200, 1024));\n",
    "    \n",
    "    result_array = np.append(result_array, [array],axis=0)\n",
    "\n",
    "print(result_array.shape)\n",
    "\n",
    "import scipy.io\n",
    "data = {}\n",
    "data['Matrix_OCT'] = result_array\n",
    "\n",
    "# For saving images matlab file: insert your path to the following XXX \n",
    "scipy.io.savemat('XXX/Matrix_OCT.mat',data)\n",
    "\n",
    "\n"
   ]
  },
  {
   "cell_type": "code",
   "execution_count": null,
   "metadata": {},
   "outputs": [],
   "source": []
  }
 ],
 "metadata": {
  "kernelspec": {
   "display_name": "Python 2",
   "language": "python",
   "name": "python2"
  },
  "language_info": {
   "codemirror_mode": {
    "name": "ipython",
    "version": 2
   },
   "file_extension": ".py",
   "mimetype": "text/x-python",
   "name": "python",
   "nbconvert_exporter": "python",
   "pygments_lexer": "ipython2",
   "version": "2.7.15"
  }
 },
 "nbformat": 4,
 "nbformat_minor": 2
}
